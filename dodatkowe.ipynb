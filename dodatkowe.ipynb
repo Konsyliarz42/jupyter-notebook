{
 "metadata": {
  "language_info": {
   "codemirror_mode": {
    "name": "ipython",
    "version": 3
   },
   "file_extension": ".py",
   "mimetype": "text/x-python",
   "name": "python",
   "nbconvert_exporter": "python",
   "pygments_lexer": "ipython3",
   "version": "3.8.5-final"
  },
  "orig_nbformat": 2,
  "kernelspec": {
   "name": "python3",
   "display_name": "Python 3"
  }
 },
 "nbformat": 4,
 "nbformat_minor": 2,
 "cells": [
  {
   "cell_type": "code",
   "execution_count": 29,
   "metadata": {},
   "outputs": [],
   "source": [
    "import plotly.graph_objects as go\n",
    "import pandas as pd"
   ]
  },
  {
   "cell_type": "code",
   "execution_count": 30,
   "metadata": {
    "tags": []
   },
   "outputs": [
    {
     "output_type": "execute_result",
     "data": {
      "text/plain": [
       "    Kod   Nazwa Okresy                        Owoc   Rok Wartosc  \\\n",
       "0     0  POLSKA    rok              jabłka za 1 kg  2012    2,36   \n",
       "1     0  POLSKA    rok              jabłka za 1 kg  2013    2,35   \n",
       "2     0  POLSKA    rok              jabłka za 1 kg  2014    2,17   \n",
       "3     0  POLSKA    rok              jabłka za 1 kg  2015    2,21   \n",
       "4     0  POLSKA    rok              jabłka za 1 kg  2016    2,15   \n",
       "..  ...     ...    ...                         ...   ...     ...   \n",
       "67    0  POLSKA    rok  porzeczki kolorowe za 1 kg  2016    5,03   \n",
       "68    0  POLSKA    rok  porzeczki kolorowe za 1 kg  2017       6   \n",
       "69    0  POLSKA    rok  porzeczki kolorowe za 1 kg  2018    5,75   \n",
       "70    0  POLSKA    rok  porzeczki kolorowe za 1 kg  2019    6,88   \n",
       "71    0  POLSKA    rok  porzeczki kolorowe za 1 kg  2020     NaN   \n",
       "\n",
       "   Jednostka miary Atrybut  \n",
       "0               zł     NaN  \n",
       "1               zł     NaN  \n",
       "2               zł     NaN  \n",
       "3               zł     NaN  \n",
       "4               zł     NaN  \n",
       "..             ...     ...  \n",
       "67              zł     NaN  \n",
       "68              zł     NaN  \n",
       "69              zł     NaN  \n",
       "70              zł     NaN  \n",
       "71              zł       n  \n",
       "\n",
       "[72 rows x 8 columns]"
      ],
      "text/html": "<div>\n<style scoped>\n    .dataframe tbody tr th:only-of-type {\n        vertical-align: middle;\n    }\n\n    .dataframe tbody tr th {\n        vertical-align: top;\n    }\n\n    .dataframe thead th {\n        text-align: right;\n    }\n</style>\n<table border=\"1\" class=\"dataframe\">\n  <thead>\n    <tr style=\"text-align: right;\">\n      <th></th>\n      <th>Kod</th>\n      <th>Nazwa</th>\n      <th>Okresy</th>\n      <th>Owoc</th>\n      <th>Rok</th>\n      <th>Wartosc</th>\n      <th>Jednostka miary</th>\n      <th>Atrybut</th>\n    </tr>\n  </thead>\n  <tbody>\n    <tr>\n      <th>0</th>\n      <td>0</td>\n      <td>POLSKA</td>\n      <td>rok</td>\n      <td>jabłka za 1 kg</td>\n      <td>2012</td>\n      <td>2,36</td>\n      <td>zł</td>\n      <td>NaN</td>\n    </tr>\n    <tr>\n      <th>1</th>\n      <td>0</td>\n      <td>POLSKA</td>\n      <td>rok</td>\n      <td>jabłka za 1 kg</td>\n      <td>2013</td>\n      <td>2,35</td>\n      <td>zł</td>\n      <td>NaN</td>\n    </tr>\n    <tr>\n      <th>2</th>\n      <td>0</td>\n      <td>POLSKA</td>\n      <td>rok</td>\n      <td>jabłka za 1 kg</td>\n      <td>2014</td>\n      <td>2,17</td>\n      <td>zł</td>\n      <td>NaN</td>\n    </tr>\n    <tr>\n      <th>3</th>\n      <td>0</td>\n      <td>POLSKA</td>\n      <td>rok</td>\n      <td>jabłka za 1 kg</td>\n      <td>2015</td>\n      <td>2,21</td>\n      <td>zł</td>\n      <td>NaN</td>\n    </tr>\n    <tr>\n      <th>4</th>\n      <td>0</td>\n      <td>POLSKA</td>\n      <td>rok</td>\n      <td>jabłka za 1 kg</td>\n      <td>2016</td>\n      <td>2,15</td>\n      <td>zł</td>\n      <td>NaN</td>\n    </tr>\n    <tr>\n      <th>...</th>\n      <td>...</td>\n      <td>...</td>\n      <td>...</td>\n      <td>...</td>\n      <td>...</td>\n      <td>...</td>\n      <td>...</td>\n      <td>...</td>\n    </tr>\n    <tr>\n      <th>67</th>\n      <td>0</td>\n      <td>POLSKA</td>\n      <td>rok</td>\n      <td>porzeczki kolorowe za 1 kg</td>\n      <td>2016</td>\n      <td>5,03</td>\n      <td>zł</td>\n      <td>NaN</td>\n    </tr>\n    <tr>\n      <th>68</th>\n      <td>0</td>\n      <td>POLSKA</td>\n      <td>rok</td>\n      <td>porzeczki kolorowe za 1 kg</td>\n      <td>2017</td>\n      <td>6</td>\n      <td>zł</td>\n      <td>NaN</td>\n    </tr>\n    <tr>\n      <th>69</th>\n      <td>0</td>\n      <td>POLSKA</td>\n      <td>rok</td>\n      <td>porzeczki kolorowe za 1 kg</td>\n      <td>2018</td>\n      <td>5,75</td>\n      <td>zł</td>\n      <td>NaN</td>\n    </tr>\n    <tr>\n      <th>70</th>\n      <td>0</td>\n      <td>POLSKA</td>\n      <td>rok</td>\n      <td>porzeczki kolorowe za 1 kg</td>\n      <td>2019</td>\n      <td>6,88</td>\n      <td>zł</td>\n      <td>NaN</td>\n    </tr>\n    <tr>\n      <th>71</th>\n      <td>0</td>\n      <td>POLSKA</td>\n      <td>rok</td>\n      <td>porzeczki kolorowe za 1 kg</td>\n      <td>2020</td>\n      <td>NaN</td>\n      <td>zł</td>\n      <td>n</td>\n    </tr>\n  </tbody>\n</table>\n<p>72 rows × 8 columns</p>\n</div>"
     },
     "metadata": {},
     "execution_count": 30
    }
   ],
   "source": [
    "file = 'CENY_3156_CREL_20201114123550.csv'\n",
    "fruits = pd.read_csv(file, delimiter=';')\n",
    "fruits"
   ]
  },
  {
   "cell_type": "code",
   "execution_count": 31,
   "metadata": {},
   "outputs": [
    {
     "output_type": "execute_result",
     "data": {
      "text/plain": [
       "    Kod   Nazwa WyszczegĂłlnienie   Rok  Wartosc Jednostka miary  Atrybut\n",
       "0     0  POLSKA            ogółem  2002  2239,56              zł      NaN\n",
       "1     0  POLSKA            ogółem  2003  2314,66              zł      NaN\n",
       "2     0  POLSKA            ogółem  2004  2409,69              zł      NaN\n",
       "3     0  POLSKA            ogółem  2005  2506,93              zł      NaN\n",
       "4     0  POLSKA            ogółem  2006  2636,81              zł      NaN\n",
       "5     0  POLSKA            ogółem  2007  2866,04              zł      NaN\n",
       "6     0  POLSKA            ogółem  2008  3158,48              zł      NaN\n",
       "7     0  POLSKA            ogółem  2009  3315,38              zł      NaN\n",
       "8     0  POLSKA            ogółem  2010     3435              zł      NaN\n",
       "9     0  POLSKA            ogółem  2011  3625,21              zł      NaN\n",
       "10    0  POLSKA            ogółem  2012  3744,38              zł      NaN\n",
       "11    0  POLSKA            ogółem  2013  3877,43              zł      NaN\n",
       "12    0  POLSKA            ogółem  2014  4003,99              zł      NaN\n",
       "13    0  POLSKA            ogółem  2015  4150,86              zł      NaN\n",
       "14    0  POLSKA            ogółem  2016  4290,52              zł      NaN\n",
       "15    0  POLSKA            ogółem  2017  4527,89              zł      NaN\n",
       "16    0  POLSKA            ogółem  2018  4834,76              zł      NaN\n",
       "17    0  POLSKA            ogółem  2019  5181,63              zł      NaN"
      ],
      "text/html": "<div>\n<style scoped>\n    .dataframe tbody tr th:only-of-type {\n        vertical-align: middle;\n    }\n\n    .dataframe tbody tr th {\n        vertical-align: top;\n    }\n\n    .dataframe thead th {\n        text-align: right;\n    }\n</style>\n<table border=\"1\" class=\"dataframe\">\n  <thead>\n    <tr style=\"text-align: right;\">\n      <th></th>\n      <th>Kod</th>\n      <th>Nazwa</th>\n      <th>WyszczegĂłlnienie</th>\n      <th>Rok</th>\n      <th>Wartosc</th>\n      <th>Jednostka miary</th>\n      <th>Atrybut</th>\n    </tr>\n  </thead>\n  <tbody>\n    <tr>\n      <th>0</th>\n      <td>0</td>\n      <td>POLSKA</td>\n      <td>ogółem</td>\n      <td>2002</td>\n      <td>2239,56</td>\n      <td>zł</td>\n      <td>NaN</td>\n    </tr>\n    <tr>\n      <th>1</th>\n      <td>0</td>\n      <td>POLSKA</td>\n      <td>ogółem</td>\n      <td>2003</td>\n      <td>2314,66</td>\n      <td>zł</td>\n      <td>NaN</td>\n    </tr>\n    <tr>\n      <th>2</th>\n      <td>0</td>\n      <td>POLSKA</td>\n      <td>ogółem</td>\n      <td>2004</td>\n      <td>2409,69</td>\n      <td>zł</td>\n      <td>NaN</td>\n    </tr>\n    <tr>\n      <th>3</th>\n      <td>0</td>\n      <td>POLSKA</td>\n      <td>ogółem</td>\n      <td>2005</td>\n      <td>2506,93</td>\n      <td>zł</td>\n      <td>NaN</td>\n    </tr>\n    <tr>\n      <th>4</th>\n      <td>0</td>\n      <td>POLSKA</td>\n      <td>ogółem</td>\n      <td>2006</td>\n      <td>2636,81</td>\n      <td>zł</td>\n      <td>NaN</td>\n    </tr>\n    <tr>\n      <th>5</th>\n      <td>0</td>\n      <td>POLSKA</td>\n      <td>ogółem</td>\n      <td>2007</td>\n      <td>2866,04</td>\n      <td>zł</td>\n      <td>NaN</td>\n    </tr>\n    <tr>\n      <th>6</th>\n      <td>0</td>\n      <td>POLSKA</td>\n      <td>ogółem</td>\n      <td>2008</td>\n      <td>3158,48</td>\n      <td>zł</td>\n      <td>NaN</td>\n    </tr>\n    <tr>\n      <th>7</th>\n      <td>0</td>\n      <td>POLSKA</td>\n      <td>ogółem</td>\n      <td>2009</td>\n      <td>3315,38</td>\n      <td>zł</td>\n      <td>NaN</td>\n    </tr>\n    <tr>\n      <th>8</th>\n      <td>0</td>\n      <td>POLSKA</td>\n      <td>ogółem</td>\n      <td>2010</td>\n      <td>3435</td>\n      <td>zł</td>\n      <td>NaN</td>\n    </tr>\n    <tr>\n      <th>9</th>\n      <td>0</td>\n      <td>POLSKA</td>\n      <td>ogółem</td>\n      <td>2011</td>\n      <td>3625,21</td>\n      <td>zł</td>\n      <td>NaN</td>\n    </tr>\n    <tr>\n      <th>10</th>\n      <td>0</td>\n      <td>POLSKA</td>\n      <td>ogółem</td>\n      <td>2012</td>\n      <td>3744,38</td>\n      <td>zł</td>\n      <td>NaN</td>\n    </tr>\n    <tr>\n      <th>11</th>\n      <td>0</td>\n      <td>POLSKA</td>\n      <td>ogółem</td>\n      <td>2013</td>\n      <td>3877,43</td>\n      <td>zł</td>\n      <td>NaN</td>\n    </tr>\n    <tr>\n      <th>12</th>\n      <td>0</td>\n      <td>POLSKA</td>\n      <td>ogółem</td>\n      <td>2014</td>\n      <td>4003,99</td>\n      <td>zł</td>\n      <td>NaN</td>\n    </tr>\n    <tr>\n      <th>13</th>\n      <td>0</td>\n      <td>POLSKA</td>\n      <td>ogółem</td>\n      <td>2015</td>\n      <td>4150,86</td>\n      <td>zł</td>\n      <td>NaN</td>\n    </tr>\n    <tr>\n      <th>14</th>\n      <td>0</td>\n      <td>POLSKA</td>\n      <td>ogółem</td>\n      <td>2016</td>\n      <td>4290,52</td>\n      <td>zł</td>\n      <td>NaN</td>\n    </tr>\n    <tr>\n      <th>15</th>\n      <td>0</td>\n      <td>POLSKA</td>\n      <td>ogółem</td>\n      <td>2017</td>\n      <td>4527,89</td>\n      <td>zł</td>\n      <td>NaN</td>\n    </tr>\n    <tr>\n      <th>16</th>\n      <td>0</td>\n      <td>POLSKA</td>\n      <td>ogółem</td>\n      <td>2018</td>\n      <td>4834,76</td>\n      <td>zł</td>\n      <td>NaN</td>\n    </tr>\n    <tr>\n      <th>17</th>\n      <td>0</td>\n      <td>POLSKA</td>\n      <td>ogółem</td>\n      <td>2019</td>\n      <td>5181,63</td>\n      <td>zł</td>\n      <td>NaN</td>\n    </tr>\n  </tbody>\n</table>\n</div>"
     },
     "metadata": {},
     "execution_count": 31
    }
   ],
   "source": [
    "file = 'WYNA_2497_CREL_20201114134655.csv'\n",
    "salares = pd.read_csv(file, delimiter=';')\n",
    "salares"
   ]
  },
  {
   "cell_type": "code",
   "execution_count": 32,
   "metadata": {},
   "outputs": [],
   "source": [
    "fruits_set = set(fruits['Rok'])\n",
    "salares_set = set(salares['Rok'])\n",
    "years = list(fruits_set.intersection(salares_set))"
   ]
  },
  {
   "cell_type": "code",
   "execution_count": 33,
   "metadata": {},
   "outputs": [],
   "source": [
    "prices_dict = dict()\n",
    "salares_dict = dict()\n",
    "years.sort()\n",
    "\n",
    "for year in years:\n",
    "    price = sum([float(p.replace(',', '.')) for p, y in zip(fruits['Wartosc'], fruits['Rok']) if y == year])\n",
    "    salary = [float(s.replace(',', '.')) for s, y in zip(salares['Wartosc'], salares['Rok']) if y == year][0]\n",
    "\n",
    "    prices_dict[year] = price\n",
    "    salares_dict[year] = salary"
   ]
  },
  {
   "cell_type": "code",
   "execution_count": 34,
   "metadata": {},
   "outputs": [
    {
     "output_type": "execute_result",
     "data": {
      "text/plain": [
       "       fruits prices   salary\n",
       "years                        \n",
       "2012           52.01  3744.38\n",
       "2013           50.64  3877.43\n",
       "2014           49.06  4003.99\n",
       "2015           50.55  4150.86\n",
       "2016           53.04  4290.52\n",
       "2017           69.32  4527.89\n",
       "2018           53.50  4834.76\n",
       "2019           64.90  5181.63"
      ],
      "text/html": "<div>\n<style scoped>\n    .dataframe tbody tr th:only-of-type {\n        vertical-align: middle;\n    }\n\n    .dataframe tbody tr th {\n        vertical-align: top;\n    }\n\n    .dataframe thead th {\n        text-align: right;\n    }\n</style>\n<table border=\"1\" class=\"dataframe\">\n  <thead>\n    <tr style=\"text-align: right;\">\n      <th></th>\n      <th>fruits prices</th>\n      <th>salary</th>\n    </tr>\n    <tr>\n      <th>years</th>\n      <th></th>\n      <th></th>\n    </tr>\n  </thead>\n  <tbody>\n    <tr>\n      <th>2012</th>\n      <td>52.01</td>\n      <td>3744.38</td>\n    </tr>\n    <tr>\n      <th>2013</th>\n      <td>50.64</td>\n      <td>3877.43</td>\n    </tr>\n    <tr>\n      <th>2014</th>\n      <td>49.06</td>\n      <td>4003.99</td>\n    </tr>\n    <tr>\n      <th>2015</th>\n      <td>50.55</td>\n      <td>4150.86</td>\n    </tr>\n    <tr>\n      <th>2016</th>\n      <td>53.04</td>\n      <td>4290.52</td>\n    </tr>\n    <tr>\n      <th>2017</th>\n      <td>69.32</td>\n      <td>4527.89</td>\n    </tr>\n    <tr>\n      <th>2018</th>\n      <td>53.50</td>\n      <td>4834.76</td>\n    </tr>\n    <tr>\n      <th>2019</th>\n      <td>64.90</td>\n      <td>5181.63</td>\n    </tr>\n  </tbody>\n</table>\n</div>"
     },
     "metadata": {},
     "execution_count": 34
    }
   ],
   "source": [
    "data = [(y, p, s) for y, p, s in zip(years, prices_dict.values(), salares_dict.values())]\n",
    "data_frame = pd.DataFrame(data, columns=['years', 'fruits prices', 'salary'])\n",
    "data_frame = data_frame.set_index(\"years\")\n",
    "data_frame"
   ]
  },
  {
   "cell_type": "code",
   "execution_count": 35,
   "metadata": {},
   "outputs": [
    {
     "output_type": "display_data",
     "data": {
      "application/vnd.plotly.v1+json": {
       "config": {
        "plotlyServerURL": "https://plot.ly"
       },
       "data": [
        {
         "line": {
          "color": "red"
         },
         "mode": "lines",
         "name": "fruits prices",
         "type": "scatter",
         "x": [
          2012,
          2013,
          2014,
          2015,
          2016,
          2017,
          2018,
          2019
         ],
         "y": [
          52.01,
          50.64,
          49.059999999999995,
          50.55,
          53.040000000000006,
          69.32,
          53.5,
          64.89999999999999
         ]
        },
        {
         "line": {
          "color": "blue"
         },
         "mode": "lines",
         "name": "salary",
         "type": "scatter",
         "x": [
          2012,
          2013,
          2014,
          2015,
          2016,
          2017,
          2018,
          2019
         ],
         "y": [
          3744.38,
          3877.43,
          4003.99,
          4150.86,
          4290.52,
          4527.89,
          4834.76,
          5181.63
         ]
        }
       ],
       "layout": {
        "template": {
         "data": {
          "bar": [
           {
            "error_x": {
             "color": "#2a3f5f"
            },
            "error_y": {
             "color": "#2a3f5f"
            },
            "marker": {
             "line": {
              "color": "#E5ECF6",
              "width": 0.5
             }
            },
            "type": "bar"
           }
          ],
          "barpolar": [
           {
            "marker": {
             "line": {
              "color": "#E5ECF6",
              "width": 0.5
             }
            },
            "type": "barpolar"
           }
          ],
          "carpet": [
           {
            "aaxis": {
             "endlinecolor": "#2a3f5f",
             "gridcolor": "white",
             "linecolor": "white",
             "minorgridcolor": "white",
             "startlinecolor": "#2a3f5f"
            },
            "baxis": {
             "endlinecolor": "#2a3f5f",
             "gridcolor": "white",
             "linecolor": "white",
             "minorgridcolor": "white",
             "startlinecolor": "#2a3f5f"
            },
            "type": "carpet"
           }
          ],
          "choropleth": [
           {
            "colorbar": {
             "outlinewidth": 0,
             "ticks": ""
            },
            "type": "choropleth"
           }
          ],
          "contour": [
           {
            "colorbar": {
             "outlinewidth": 0,
             "ticks": ""
            },
            "colorscale": [
             [
              0,
              "#0d0887"
             ],
             [
              0.1111111111111111,
              "#46039f"
             ],
             [
              0.2222222222222222,
              "#7201a8"
             ],
             [
              0.3333333333333333,
              "#9c179e"
             ],
             [
              0.4444444444444444,
              "#bd3786"
             ],
             [
              0.5555555555555556,
              "#d8576b"
             ],
             [
              0.6666666666666666,
              "#ed7953"
             ],
             [
              0.7777777777777778,
              "#fb9f3a"
             ],
             [
              0.8888888888888888,
              "#fdca26"
             ],
             [
              1,
              "#f0f921"
             ]
            ],
            "type": "contour"
           }
          ],
          "contourcarpet": [
           {
            "colorbar": {
             "outlinewidth": 0,
             "ticks": ""
            },
            "type": "contourcarpet"
           }
          ],
          "heatmap": [
           {
            "colorbar": {
             "outlinewidth": 0,
             "ticks": ""
            },
            "colorscale": [
             [
              0,
              "#0d0887"
             ],
             [
              0.1111111111111111,
              "#46039f"
             ],
             [
              0.2222222222222222,
              "#7201a8"
             ],
             [
              0.3333333333333333,
              "#9c179e"
             ],
             [
              0.4444444444444444,
              "#bd3786"
             ],
             [
              0.5555555555555556,
              "#d8576b"
             ],
             [
              0.6666666666666666,
              "#ed7953"
             ],
             [
              0.7777777777777778,
              "#fb9f3a"
             ],
             [
              0.8888888888888888,
              "#fdca26"
             ],
             [
              1,
              "#f0f921"
             ]
            ],
            "type": "heatmap"
           }
          ],
          "heatmapgl": [
           {
            "colorbar": {
             "outlinewidth": 0,
             "ticks": ""
            },
            "colorscale": [
             [
              0,
              "#0d0887"
             ],
             [
              0.1111111111111111,
              "#46039f"
             ],
             [
              0.2222222222222222,
              "#7201a8"
             ],
             [
              0.3333333333333333,
              "#9c179e"
             ],
             [
              0.4444444444444444,
              "#bd3786"
             ],
             [
              0.5555555555555556,
              "#d8576b"
             ],
             [
              0.6666666666666666,
              "#ed7953"
             ],
             [
              0.7777777777777778,
              "#fb9f3a"
             ],
             [
              0.8888888888888888,
              "#fdca26"
             ],
             [
              1,
              "#f0f921"
             ]
            ],
            "type": "heatmapgl"
           }
          ],
          "histogram": [
           {
            "marker": {
             "colorbar": {
              "outlinewidth": 0,
              "ticks": ""
             }
            },
            "type": "histogram"
           }
          ],
          "histogram2d": [
           {
            "colorbar": {
             "outlinewidth": 0,
             "ticks": ""
            },
            "colorscale": [
             [
              0,
              "#0d0887"
             ],
             [
              0.1111111111111111,
              "#46039f"
             ],
             [
              0.2222222222222222,
              "#7201a8"
             ],
             [
              0.3333333333333333,
              "#9c179e"
             ],
             [
              0.4444444444444444,
              "#bd3786"
             ],
             [
              0.5555555555555556,
              "#d8576b"
             ],
             [
              0.6666666666666666,
              "#ed7953"
             ],
             [
              0.7777777777777778,
              "#fb9f3a"
             ],
             [
              0.8888888888888888,
              "#fdca26"
             ],
             [
              1,
              "#f0f921"
             ]
            ],
            "type": "histogram2d"
           }
          ],
          "histogram2dcontour": [
           {
            "colorbar": {
             "outlinewidth": 0,
             "ticks": ""
            },
            "colorscale": [
             [
              0,
              "#0d0887"
             ],
             [
              0.1111111111111111,
              "#46039f"
             ],
             [
              0.2222222222222222,
              "#7201a8"
             ],
             [
              0.3333333333333333,
              "#9c179e"
             ],
             [
              0.4444444444444444,
              "#bd3786"
             ],
             [
              0.5555555555555556,
              "#d8576b"
             ],
             [
              0.6666666666666666,
              "#ed7953"
             ],
             [
              0.7777777777777778,
              "#fb9f3a"
             ],
             [
              0.8888888888888888,
              "#fdca26"
             ],
             [
              1,
              "#f0f921"
             ]
            ],
            "type": "histogram2dcontour"
           }
          ],
          "mesh3d": [
           {
            "colorbar": {
             "outlinewidth": 0,
             "ticks": ""
            },
            "type": "mesh3d"
           }
          ],
          "parcoords": [
           {
            "line": {
             "colorbar": {
              "outlinewidth": 0,
              "ticks": ""
             }
            },
            "type": "parcoords"
           }
          ],
          "pie": [
           {
            "automargin": true,
            "type": "pie"
           }
          ],
          "scatter": [
           {
            "marker": {
             "colorbar": {
              "outlinewidth": 0,
              "ticks": ""
             }
            },
            "type": "scatter"
           }
          ],
          "scatter3d": [
           {
            "line": {
             "colorbar": {
              "outlinewidth": 0,
              "ticks": ""
             }
            },
            "marker": {
             "colorbar": {
              "outlinewidth": 0,
              "ticks": ""
             }
            },
            "type": "scatter3d"
           }
          ],
          "scattercarpet": [
           {
            "marker": {
             "colorbar": {
              "outlinewidth": 0,
              "ticks": ""
             }
            },
            "type": "scattercarpet"
           }
          ],
          "scattergeo": [
           {
            "marker": {
             "colorbar": {
              "outlinewidth": 0,
              "ticks": ""
             }
            },
            "type": "scattergeo"
           }
          ],
          "scattergl": [
           {
            "marker": {
             "colorbar": {
              "outlinewidth": 0,
              "ticks": ""
             }
            },
            "type": "scattergl"
           }
          ],
          "scattermapbox": [
           {
            "marker": {
             "colorbar": {
              "outlinewidth": 0,
              "ticks": ""
             }
            },
            "type": "scattermapbox"
           }
          ],
          "scatterpolar": [
           {
            "marker": {
             "colorbar": {
              "outlinewidth": 0,
              "ticks": ""
             }
            },
            "type": "scatterpolar"
           }
          ],
          "scatterpolargl": [
           {
            "marker": {
             "colorbar": {
              "outlinewidth": 0,
              "ticks": ""
             }
            },
            "type": "scatterpolargl"
           }
          ],
          "scatterternary": [
           {
            "marker": {
             "colorbar": {
              "outlinewidth": 0,
              "ticks": ""
             }
            },
            "type": "scatterternary"
           }
          ],
          "surface": [
           {
            "colorbar": {
             "outlinewidth": 0,
             "ticks": ""
            },
            "colorscale": [
             [
              0,
              "#0d0887"
             ],
             [
              0.1111111111111111,
              "#46039f"
             ],
             [
              0.2222222222222222,
              "#7201a8"
             ],
             [
              0.3333333333333333,
              "#9c179e"
             ],
             [
              0.4444444444444444,
              "#bd3786"
             ],
             [
              0.5555555555555556,
              "#d8576b"
             ],
             [
              0.6666666666666666,
              "#ed7953"
             ],
             [
              0.7777777777777778,
              "#fb9f3a"
             ],
             [
              0.8888888888888888,
              "#fdca26"
             ],
             [
              1,
              "#f0f921"
             ]
            ],
            "type": "surface"
           }
          ],
          "table": [
           {
            "cells": {
             "fill": {
              "color": "#EBF0F8"
             },
             "line": {
              "color": "white"
             }
            },
            "header": {
             "fill": {
              "color": "#C8D4E3"
             },
             "line": {
              "color": "white"
             }
            },
            "type": "table"
           }
          ]
         },
         "layout": {
          "annotationdefaults": {
           "arrowcolor": "#2a3f5f",
           "arrowhead": 0,
           "arrowwidth": 1
          },
          "coloraxis": {
           "colorbar": {
            "outlinewidth": 0,
            "ticks": ""
           }
          },
          "colorscale": {
           "diverging": [
            [
             0,
             "#8e0152"
            ],
            [
             0.1,
             "#c51b7d"
            ],
            [
             0.2,
             "#de77ae"
            ],
            [
             0.3,
             "#f1b6da"
            ],
            [
             0.4,
             "#fde0ef"
            ],
            [
             0.5,
             "#f7f7f7"
            ],
            [
             0.6,
             "#e6f5d0"
            ],
            [
             0.7,
             "#b8e186"
            ],
            [
             0.8,
             "#7fbc41"
            ],
            [
             0.9,
             "#4d9221"
            ],
            [
             1,
             "#276419"
            ]
           ],
           "sequential": [
            [
             0,
             "#0d0887"
            ],
            [
             0.1111111111111111,
             "#46039f"
            ],
            [
             0.2222222222222222,
             "#7201a8"
            ],
            [
             0.3333333333333333,
             "#9c179e"
            ],
            [
             0.4444444444444444,
             "#bd3786"
            ],
            [
             0.5555555555555556,
             "#d8576b"
            ],
            [
             0.6666666666666666,
             "#ed7953"
            ],
            [
             0.7777777777777778,
             "#fb9f3a"
            ],
            [
             0.8888888888888888,
             "#fdca26"
            ],
            [
             1,
             "#f0f921"
            ]
           ],
           "sequentialminus": [
            [
             0,
             "#0d0887"
            ],
            [
             0.1111111111111111,
             "#46039f"
            ],
            [
             0.2222222222222222,
             "#7201a8"
            ],
            [
             0.3333333333333333,
             "#9c179e"
            ],
            [
             0.4444444444444444,
             "#bd3786"
            ],
            [
             0.5555555555555556,
             "#d8576b"
            ],
            [
             0.6666666666666666,
             "#ed7953"
            ],
            [
             0.7777777777777778,
             "#fb9f3a"
            ],
            [
             0.8888888888888888,
             "#fdca26"
            ],
            [
             1,
             "#f0f921"
            ]
           ]
          },
          "colorway": [
           "#636efa",
           "#EF553B",
           "#00cc96",
           "#ab63fa",
           "#FFA15A",
           "#19d3f3",
           "#FF6692",
           "#B6E880",
           "#FF97FF",
           "#FECB52"
          ],
          "font": {
           "color": "#2a3f5f"
          },
          "geo": {
           "bgcolor": "white",
           "lakecolor": "white",
           "landcolor": "#E5ECF6",
           "showlakes": true,
           "showland": true,
           "subunitcolor": "white"
          },
          "hoverlabel": {
           "align": "left"
          },
          "hovermode": "closest",
          "mapbox": {
           "style": "light"
          },
          "paper_bgcolor": "white",
          "plot_bgcolor": "#E5ECF6",
          "polar": {
           "angularaxis": {
            "gridcolor": "white",
            "linecolor": "white",
            "ticks": ""
           },
           "bgcolor": "#E5ECF6",
           "radialaxis": {
            "gridcolor": "white",
            "linecolor": "white",
            "ticks": ""
           }
          },
          "scene": {
           "xaxis": {
            "backgroundcolor": "#E5ECF6",
            "gridcolor": "white",
            "gridwidth": 2,
            "linecolor": "white",
            "showbackground": true,
            "ticks": "",
            "zerolinecolor": "white"
           },
           "yaxis": {
            "backgroundcolor": "#E5ECF6",
            "gridcolor": "white",
            "gridwidth": 2,
            "linecolor": "white",
            "showbackground": true,
            "ticks": "",
            "zerolinecolor": "white"
           },
           "zaxis": {
            "backgroundcolor": "#E5ECF6",
            "gridcolor": "white",
            "gridwidth": 2,
            "linecolor": "white",
            "showbackground": true,
            "ticks": "",
            "zerolinecolor": "white"
           }
          },
          "shapedefaults": {
           "line": {
            "color": "#2a3f5f"
           }
          },
          "ternary": {
           "aaxis": {
            "gridcolor": "white",
            "linecolor": "white",
            "ticks": ""
           },
           "baxis": {
            "gridcolor": "white",
            "linecolor": "white",
            "ticks": ""
           },
           "bgcolor": "#E5ECF6",
           "caxis": {
            "gridcolor": "white",
            "linecolor": "white",
            "ticks": ""
           }
          },
          "title": {
           "x": 0.05
          },
          "xaxis": {
           "automargin": true,
           "gridcolor": "white",
           "linecolor": "white",
           "ticks": "",
           "title": {
            "standoff": 15
           },
           "zerolinecolor": "white",
           "zerolinewidth": 2
          },
          "yaxis": {
           "automargin": true,
           "gridcolor": "white",
           "linecolor": "white",
           "ticks": "",
           "title": {
            "standoff": 15
           },
           "zerolinecolor": "white",
           "zerolinewidth": 2
          }
         }
        }
       }
      }
     },
     "metadata": {}
    }
   ],
   "source": [
    "trace_fruit_prices = go.Scatter(\n",
    "    x = data_frame.index,\n",
    "    y = data_frame['fruits prices'],\n",
    "    mode = 'lines',\n",
    "    name = 'fruits prices',\n",
    "    line = dict(color='red')\n",
    ")\n",
    "\n",
    "trace_salary = go.Scatter(\n",
    "    x = data_frame.index,\n",
    "    y = data_frame['salary'],\n",
    "    mode = 'lines',\n",
    "    name = 'salary',\n",
    "    line = dict(color='blue')\n",
    ")\n",
    "\n",
    "data = [\n",
    "    trace_fruit_prices,\n",
    "    trace_salary\n",
    "]\n",
    "go.Figure(data=data).show()"
   ]
  },
  {
   "cell_type": "code",
   "execution_count": null,
   "metadata": {},
   "outputs": [],
   "source": []
  }
 ]
}